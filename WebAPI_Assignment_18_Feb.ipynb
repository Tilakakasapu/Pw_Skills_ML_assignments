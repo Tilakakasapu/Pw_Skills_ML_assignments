{
 "cells": [
  {
   "cell_type": "markdown",
   "id": "d699161a",
   "metadata": {},
   "source": [
    "# Web API Assignment - 18th February\n",
    "\n",
    "**Data Science Masters**\n"
   ]
  },
  {
   "cell_type": "markdown",
   "id": "51ce5240",
   "metadata": {},
   "source": [
    "## Q1. What is an API? Give an example, where an API is used in real life."
   ]
  },
  {
   "cell_type": "markdown",
   "id": "96e6642a",
   "metadata": {},
   "source": [
    "Your answer here..."
   ]
  },
  {
   "cell_type": "markdown",
   "id": "337c751d",
   "metadata": {},
   "source": [
    "## Q2. Give advantages and disadvantages of using API."
   ]
  },
  {
   "cell_type": "markdown",
   "id": "9d0cfb4c",
   "metadata": {},
   "source": [
    "Your answer here..."
   ]
  },
  {
   "cell_type": "markdown",
   "id": "6a687e56",
   "metadata": {},
   "source": [
    "## Q3. What is a Web API? Differentiate between API and Web API."
   ]
  },
  {
   "cell_type": "markdown",
   "id": "382fdf10",
   "metadata": {},
   "source": [
    "Your answer here..."
   ]
  },
  {
   "cell_type": "markdown",
   "id": "fc9d956f",
   "metadata": {},
   "source": [
    "## Q4. Explain REST and SOAP Architecture. Mention shortcomings of SOAP."
   ]
  },
  {
   "cell_type": "markdown",
   "id": "a160fd00",
   "metadata": {},
   "source": [
    "Your answer here..."
   ]
  },
  {
   "cell_type": "markdown",
   "id": "69c4d25f",
   "metadata": {},
   "source": [
    "## Q5. Differentiate between REST and SOAP."
   ]
  },
  {
   "cell_type": "markdown",
   "id": "69a5f416",
   "metadata": {},
   "source": [
    "Your answer here..."
   ]
  }
 ],
 "metadata": {},
 "nbformat": 4,
 "nbformat_minor": 5
}

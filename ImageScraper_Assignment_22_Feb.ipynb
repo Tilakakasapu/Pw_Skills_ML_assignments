{
 "cells": [
  {
   "cell_type": "markdown",
   "id": "676e5a2f",
   "metadata": {},
   "source": [
    "# Image Scraper Assignment - 22nd February\n",
    "\n",
    "**Data Science Masters**"
   ]
  },
  {
   "cell_type": "markdown",
   "id": "f00b19d2",
   "metadata": {},
   "source": [
    "## Q1. Write a python program to extract the video URL of the first five videos from https://www.youtube.com/@PW-Foundation/videos."
   ]
  },
  {
   "cell_type": "code",
   "execution_count": null,
   "id": "3502e9e3",
   "metadata": {},
   "outputs": [],
   "source": [
    "# Your code here"
   ]
  },
  {
   "cell_type": "markdown",
   "id": "feb0d769",
   "metadata": {},
   "source": [
    "## Q2. Write a python program to extract the URL of the video thumbnails of the first five videos."
   ]
  },
  {
   "cell_type": "code",
   "execution_count": null,
   "id": "71217bc4",
   "metadata": {},
   "outputs": [],
   "source": [
    "# Your code here"
   ]
  },
  {
   "cell_type": "markdown",
   "id": "19964663",
   "metadata": {},
   "source": [
    "## Q3. Write a python program to extract the title of the first five videos."
   ]
  },
  {
   "cell_type": "code",
   "execution_count": null,
   "id": "891d06d0",
   "metadata": {},
   "outputs": [],
   "source": [
    "# Your code here"
   ]
  },
  {
   "cell_type": "markdown",
   "id": "f534455e",
   "metadata": {},
   "source": [
    "## Q4. Write a python program to extract the number of views of the first five videos."
   ]
  },
  {
   "cell_type": "code",
   "execution_count": null,
   "id": "49936232",
   "metadata": {},
   "outputs": [],
   "source": [
    "# Your code here"
   ]
  },
  {
   "cell_type": "markdown",
   "id": "3bc52a2e",
   "metadata": {},
   "source": [
    "## Q5. Write a python program to extract the time of posting of video for the first five videos."
   ]
  },
  {
   "cell_type": "code",
   "execution_count": null,
   "id": "f2f65847",
   "metadata": {},
   "outputs": [],
   "source": [
    "# Your code here"
   ]
  },
  {
   "cell_type": "markdown",
   "id": "70e3752d",
   "metadata": {},
   "source": [
    "## Note: Save all the data scraped in the above questions in a CSV file."
   ]
  },
  {
   "cell_type": "code",
   "execution_count": null,
   "id": "5fc20a7b",
   "metadata": {},
   "outputs": [],
   "source": [
    "# Your code here"
   ]
  }
 ],
 "metadata": {},
 "nbformat": 4,
 "nbformat_minor": 5
}

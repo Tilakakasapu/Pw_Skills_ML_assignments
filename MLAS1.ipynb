{
 "cells": [
  {
   "cell_type": "markdown",
   "id": "27d17429-0e55-46e2-a7b5-d2a41a0b4b15",
   "metadata": {},
   "source": [
    "Q1: Explain the following with an example:\n",
    "\n",
    "Artificial Intelligence (AI): AI refers to the field of computer science where machines are designed to perform tasks that typically require human intelligence. For example, self-driving cars use AI to navigate roads and make decisions like a human driver.\n",
    "\n",
    "Machine Learning (ML): ML is a subset of AI that involves developing algorithms allowing computers to learn from data and make predictions. For example, email spam filters learn to identify spam emails based on user input.\n",
    "\n",
    "Deep Learning (DL): DL is a subfield of ML that uses artificial neural networks with many layers to solve complex tasks. For instance, image recognition in security cameras uses DL to identify people.\n",
    "\n",
    "Q2: What is supervised learning? List some examples.\n",
    "Supervised learning is a type of machine learning where the algorithm learns from labeled data, making predictions or classifications based on that data. Examples include:\n",
    "\n",
    "Email Classification: Categorizing emails as spam or not spam based on labeled examples.\n",
    "Image Recognition: Identifying objects in images (e.g., cats, dogs) using labeled training images.\n",
    "Medical Diagnosis: Predicting diseases (e.g., diabetes) based on patient data with known outcomes.\n",
    "Q3: What is unsupervised learning? List some examples.\n",
    "Unsupervised learning involves algorithms learning patterns and structures from unlabeled data. Examples include:\n",
    "\n",
    "Clustering Customers: Grouping customers with similar purchase behaviors without prior labels.\n",
    "Topic Modeling in Text: Discovering hidden themes in large text collections without topic labels.\n",
    "Anomaly Detection: Identifying unusual behavior in network traffic without labeled anomalies.\n",
    "Q4: What is the difference between AI, ML, DL, and DS?\n",
    "\n",
    "AI is giving a machine ability to think,learn and do things similar to human intelligence and they behave as  intelligent machines.\n",
    "ML is a subset of AI focused on learning from data.\n",
    "DL is a specialized ML technique using deep neural networks.\n",
    "DS involves collecting, analyzing, and interpreting data to gain insights.\n",
    "Q5: What are the main differences between supervised, unsupervised, and semi-supervised learning?\n",
    "\n",
    "Supervised learning uses labeled data, unsupervised uses unlabeled data, and semi-supervised uses a mix of both.\n",
    "Supervised learns to predict or classify, unsupervised finds patterns, and semi-supervised combines prediction and pattern discovery.\n",
    "Q6: What is train, test, and validation split? Explain their importance.\n",
    "\n",
    "Train set: Used to train the machine learning model.\n",
    "Test set: Used to evaluate the model's performance.\n",
    "Validation set: Used during model development to tune hyperparameters. It helps prevent overfitting.\n",
    "\n",
    "\n",
    "Q7: How can unsupervised learning be used in anomaly detection?\n",
    "Unsupervised learning can identify anomalies by finding patterns in data and flagging data points that deviate significantly from those patterns. For example, clustering can group normal data together, and anomalies will appear as separate clusters.\n",
    "\n",
    "Q8: List down some commonly used supervised learning algorithms and unsupervised learning algorithms.\n",
    "\n",
    "Common supervised learning algorithms: Linear Regression, Decision Trees, Random Forest, Support Vector Machines (SVM), Neural Networks.\n",
    "Common unsupervised learning algorithms: K-Means Clustering, Hierarchical Clustering, Principal Component Analysis (PCA), t-Distributed Stochastic Neighbor Embedding (t-SNE)."
   ]
  },
  {
   "cell_type": "code",
   "execution_count": null,
   "id": "e2e8cbdc-2e16-467b-a3ee-11d7e4b6f1f1",
   "metadata": {},
   "outputs": [],
   "source": []
  }
 ],
 "metadata": {
  "kernelspec": {
   "display_name": "Python 3 (ipykernel)",
   "language": "python",
   "name": "python3"
  },
  "language_info": {
   "codemirror_mode": {
    "name": "ipython",
    "version": 3
   },
   "file_extension": ".py",
   "mimetype": "text/x-python",
   "name": "python",
   "nbconvert_exporter": "python",
   "pygments_lexer": "ipython3",
   "version": "3.10.8"
  }
 },
 "nbformat": 4,
 "nbformat_minor": 5
}

{
 "cells": [
  {
   "cell_type": "markdown",
   "id": "a5d3ec1f",
   "metadata": {},
   "source": [
    "# Flask Assignment - 19th February\n",
    "\n",
    "**Data Science Masters**\n"
   ]
  },
  {
   "cell_type": "markdown",
   "id": "876a08af",
   "metadata": {},
   "source": [
    "## Q1. What is Flask Framework? What are the advantages of Flask Framework?"
   ]
  },
  {
   "cell_type": "markdown",
   "id": "817671b1",
   "metadata": {},
   "source": [
    "Your answer here..."
   ]
  },
  {
   "cell_type": "markdown",
   "id": "3a0a762f",
   "metadata": {},
   "source": [
    "## Q2. Create a simple Flask application to display ‘Hello World!!’. Attach the screenshot of the output in Jupyter Notebook."
   ]
  },
  {
   "cell_type": "code",
   "execution_count": null,
   "id": "15ab483b",
   "metadata": {},
   "outputs": [],
   "source": [
    "# Your Flask code here"
   ]
  },
  {
   "cell_type": "markdown",
   "id": "de1fc378",
   "metadata": {},
   "source": [
    "**Screenshot of Output:**\n",
    "\n",
    "*Upload and display the screenshot here.*"
   ]
  },
  {
   "cell_type": "markdown",
   "id": "f723408a",
   "metadata": {},
   "source": [
    "## Q3. What is App routing in Flask? Why do we use app routes?"
   ]
  },
  {
   "cell_type": "markdown",
   "id": "31b7eb0d",
   "metadata": {},
   "source": [
    "Your answer here..."
   ]
  },
  {
   "cell_type": "markdown",
   "id": "19e9b6a5",
   "metadata": {},
   "source": [
    "## Q4. Create a “/welcome” route to display the welcome message “Welcome to ABC Corporation” and a “/” route to show the following details:\n",
    "Company Name: ABC Corporation\n",
    "Location: India\n",
    "Contact Detail: 999-999-9999\n",
    "\n",
    "Attach the screenshot of the output in Jupyter Notebook."
   ]
  },
  {
   "cell_type": "markdown",
   "id": "b8010c99",
   "metadata": {},
   "source": [
    "Your answer here..."
   ]
  },
  {
   "cell_type": "markdown",
   "id": "aaaad3ae",
   "metadata": {},
   "source": [
    "## Q5. What function is used in Flask for URL Building? Write a Python code to demonstrate the working of the url_for() function.\n",
    "\n",
    "Note: Create your assignment in Jupyter notebook and upload it to GitHub & share that GitHub repository link through your dashboard. Make sure the repository is public."
   ]
  },
  {
   "cell_type": "code",
   "execution_count": null,
   "id": "e869de0a",
   "metadata": {},
   "outputs": [],
   "source": [
    "# Your Flask code here"
   ]
  },
  {
   "cell_type": "markdown",
   "id": "4b8ae044",
   "metadata": {},
   "source": [
    "**Screenshot of Output:**\n",
    "\n",
    "*Upload and display the screenshot here.*"
   ]
  }
 ],
 "metadata": {},
 "nbformat": 4,
 "nbformat_minor": 5
}

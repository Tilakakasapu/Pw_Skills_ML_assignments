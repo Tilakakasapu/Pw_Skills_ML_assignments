{
 "cells": [
  {
   "cell_type": "code",
   "execution_count": 7,
   "id": "48375c72-b84f-4eca-8347-b75aa6d4ddc5",
   "metadata": {},
   "outputs": [
    {
     "data": {
      "text/html": [
       "<div>\n",
       "<style scoped>\n",
       "    .dataframe tbody tr th:only-of-type {\n",
       "        vertical-align: middle;\n",
       "    }\n",
       "\n",
       "    .dataframe tbody tr th {\n",
       "        vertical-align: top;\n",
       "    }\n",
       "\n",
       "    .dataframe thead th {\n",
       "        text-align: right;\n",
       "    }\n",
       "</style>\n",
       "<table border=\"1\" class=\"dataframe\">\n",
       "  <thead>\n",
       "    <tr style=\"text-align: right;\">\n",
       "      <th></th>\n",
       "      <th>Study_Time (hours)</th>\n",
       "      <th>Exam_Score (out of 100)</th>\n",
       "    </tr>\n",
       "  </thead>\n",
       "  <tbody>\n",
       "    <tr>\n",
       "      <th>Study_Time (hours)</th>\n",
       "      <td>1.000000</td>\n",
       "      <td>0.877346</td>\n",
       "    </tr>\n",
       "    <tr>\n",
       "      <th>Exam_Score (out of 100)</th>\n",
       "      <td>0.877346</td>\n",
       "      <td>1.000000</td>\n",
       "    </tr>\n",
       "  </tbody>\n",
       "</table>\n",
       "</div>"
      ],
      "text/plain": [
       "                         Study_Time (hours)  Exam_Score (out of 100)\n",
       "Study_Time (hours)                 1.000000                 0.877346\n",
       "Exam_Score (out of 100)            0.877346                 1.000000"
      ]
     },
     "execution_count": 7,
     "metadata": {},
     "output_type": "execute_result"
    }
   ],
   "source": [
    "import pandas as pd\n",
    "import numpy as np\n",
    "data = {\n",
    "    'Study_Time (hours)': [2, 3, 1.5, 4, 3.5, 2.5, 1, 4.5, 2.5, 3],\n",
    "    'Exam_Score (out of 100)': [75, 82, 60, 88, 78, 85, 55, 92, 80, 86]\n",
    "}\n",
    "df = pd.DataFrame(data)\n",
    "df.corr(method='pearson')\n",
    "#here the the positive score that is 0.877346 represents the positive correlation and if the study time is increased the exam score is also increase and we can understand the strength of the relationship by the score 0.877\n"
   ]
  },
  {
   "cell_type": "code",
   "execution_count": 8,
   "id": "0caf9c69-32a2-43ee-97be-9467c673bbe7",
   "metadata": {},
   "outputs": [
    {
     "data": {
      "text/html": [
       "<div>\n",
       "<style scoped>\n",
       "    .dataframe tbody tr th:only-of-type {\n",
       "        vertical-align: middle;\n",
       "    }\n",
       "\n",
       "    .dataframe tbody tr th {\n",
       "        vertical-align: top;\n",
       "    }\n",
       "\n",
       "    .dataframe thead th {\n",
       "        text-align: right;\n",
       "    }\n",
       "</style>\n",
       "<table border=\"1\" class=\"dataframe\">\n",
       "  <thead>\n",
       "    <tr style=\"text-align: right;\">\n",
       "      <th></th>\n",
       "      <th>Hours_of_Sleep</th>\n",
       "      <th>Job_Satisfaction (1-10)</th>\n",
       "    </tr>\n",
       "  </thead>\n",
       "  <tbody>\n",
       "    <tr>\n",
       "      <th>Hours_of_Sleep</th>\n",
       "      <td>1.00000</td>\n",
       "      <td>0.82409</td>\n",
       "    </tr>\n",
       "    <tr>\n",
       "      <th>Job_Satisfaction (1-10)</th>\n",
       "      <td>0.82409</td>\n",
       "      <td>1.00000</td>\n",
       "    </tr>\n",
       "  </tbody>\n",
       "</table>\n",
       "</div>"
      ],
      "text/plain": [
       "                         Hours_of_Sleep  Job_Satisfaction (1-10)\n",
       "Hours_of_Sleep                  1.00000                  0.82409\n",
       "Job_Satisfaction (1-10)         0.82409                  1.00000"
      ]
     },
     "execution_count": 8,
     "metadata": {},
     "output_type": "execute_result"
    }
   ],
   "source": [
    "\n",
    "data = {\n",
    "    'Hours_of_Sleep': [7, 6, 8, 6.5, 7.5, 8.5, 5, 6, 7, 9],\n",
    "    'Job_Satisfaction (1-10)': [8, 7, 9, 6, 7, 9, 4, 5, 6, 8]\n",
    "}\n",
    "df = pd.DataFrame(data)\n",
    "df.corr(method='spearman')#here the positive correlation that is 0.82409 tells the hours of sleep and job satisfaction are positively correlated and its strength is understood by the number o.83"
   ]
  },
  {
   "cell_type": "code",
   "execution_count": 11,
   "id": "aadc6c1e-a887-4480-a55c-7fdf7a81cfc5",
   "metadata": {},
   "outputs": [
    {
     "name": "stdout",
     "output_type": "stream",
     "text": [
      "Pearson Correlation: -0.3651\n",
      "Spearman's Rank Correlation: -0.6226\n"
     ]
    }
   ],
   "source": [
    "import numpy as np\n",
    "import scipy.stats as stats\n",
    "exercise_hours = np.array([3, 5, 2, 4, 1, 6, 3, 2, 5, 4, 6, 7, 1, 2, 3, 4, 5, 6, 7, 1, 2, 3, 4, 5, 6,\n",
    "                          3, 2, 5, 4, 6, 7, 1, 2, 3, 4, 5, 6, 3, 2, 5, 4, 6, 7, 1, 2, 3, 4, 5, 6,4])\n",
    "bmi = np.array([25.5, 24.0, 28.3, 26.8, 30.2, 23.7, 27.1, 29.5, 24.9, 27.8, 22.6, 21.3, 31.8, 29.7, 25.6,\n",
    "                 27.2, 24.8, 23.9, 22.1, 32.5, 30.9, 26.3, 28.7, 25.2, 23.4, 25.9, 28.8, 26.7, 24.1, 22.3,\n",
    "                 32.0, 30.5, 26.9, 28.1, 25.3, 23.8, 27.0, 29.4, 25.1, 26.2, 24.7, 22.9, 31.0, 30.1, 26.4,\n",
    "                 28.6, 25.4, 23.6,24.5,53.2])\n",
    "pearson_corr, _ = stats.pearsonr(exercise_hours, bmi)\n",
    "spearman_corr, _ = stats.spearmanr(exercise_hours, bmi)\n",
    "print(f\"Pearson Correlation: {pearson_corr:.4f}\")\n",
    "print(f\"Spearman's Rank Correlation: {spearman_corr:.4f}\")\n"
   ]
  },
  {
   "cell_type": "code",
   "execution_count": 14,
   "id": "8c57f9d7-33d9-48fc-bc5a-fc42bff7dd8a",
   "metadata": {},
   "outputs": [
    {
     "name": "stdout",
     "output_type": "stream",
     "text": [
      "Pearson Correlation Coefficient: -0.7171\n"
     ]
    }
   ],
   "source": [
    "import numpy as np\n",
    "import scipy.stats as stats\n",
    "\n",
    "# Sample data (replace this with your actual data)\n",
    "tv_hours = np.array([3, 2, 4, 5, 1, 2, 3, 4, 2, 1, 4, 5, 2, 3, 1, 2, 4, 3, 2, 1, 5, 4, 2, 3, 1,\n",
    "                     5, 3, 2, 4, 1, 2, 3, 4, 5, 2, 1, 3, 4, 2, 1, 5, 3, 4, 2, 1, 3, 4, 5,6,5])\n",
    "physical_activity = np.array([5, 6, 4, 3, 7, 6, 5, 4, 6, 7, 4, 3, 6, 5, 7, 6, 4, 5, 6, 7, 3, 4, 6, 5,\n",
    "                             7, 3, 5, 6, 4, 7, 6, 5, 3, 6, 7, 5, 4, 6, 7, 3, 5, 4, 6, 7, 5, 4, 3,2,3,4])\n",
    "\n",
    "# Calculate Pearson correlation coefficient\n",
    "pearson_corr, _ = stats.pearsonr(tv_hours, physical_activity)\n",
    "\n",
    "# Display the result\n",
    "print(f\"Pearson Correlation Coefficient: {pearson_corr:.4f}\")\n"
   ]
  },
  {
   "cell_type": "code",
   "execution_count": 15,
   "id": "25072e05-6d92-4cae-ac3e-fae412892816",
   "metadata": {},
   "outputs": [
    {
     "name": "stdout",
     "output_type": "stream",
     "text": [
      "Pearson Correlation Coefficient: 0.9625\n"
     ]
    }
   ],
   "source": [
    "import numpy as np\n",
    "import scipy.stats as stats\n",
    "\n",
    "# Sample data (replace this with your actual data)\n",
    "sales_calls_per_day = np.array([20, 25, 30, 15, 22, 18, 27, 21, 24, 19])\n",
    "sales_per_week = np.array([100, 120, 135, 85, 105, 95, 130, 110, 125, 90])\n",
    "\n",
    "# Calculate Pearson correlation coefficient\n",
    "pearson_corr, _ = stats.pearsonr(sales_calls_per_day, sales_per_week)\n",
    "\n",
    "# Display the result\n",
    "print(f\"Pearson Correlation Coefficient: {pearson_corr:.4f}\")\n"
   ]
  },
  {
   "cell_type": "code",
   "execution_count": null,
   "id": "00c19676-25fe-4aae-8b79-12128362e174",
   "metadata": {},
   "outputs": [],
   "source": []
  }
 ],
 "metadata": {
  "kernelspec": {
   "display_name": "Python 3 (ipykernel)",
   "language": "python",
   "name": "python3"
  },
  "language_info": {
   "codemirror_mode": {
    "name": "ipython",
    "version": 3
   },
   "file_extension": ".py",
   "mimetype": "text/x-python",
   "name": "python",
   "nbconvert_exporter": "python",
   "pygments_lexer": "ipython3",
   "version": "3.10.8"
  }
 },
 "nbformat": 4,
 "nbformat_minor": 5
}

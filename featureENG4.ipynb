{
 "cells": [
  {
   "cell_type": "code",
   "execution_count": 1,
   "id": "eb9177cc-83fc-4344-8930-16575acbbd41",
   "metadata": {},
   "outputs": [],
   "source": [
    "# # Ordinal Encoding and Label Encoding are related encoding techniques used for converting categorical data into numerical format\n",
    "# Ordinal Encoding:\n",
    "# Usage: Ordinal encoding is used when dealing with ordinal categorical variables, where the categories have a meaningful order or ranking. In ordinal encoding, you assign integers to categories based on their inherent order or hierarchy.\n",
    "# Example: Let's consider an \"Education Level\" variable with categories \"High School,\" \"Associate's Degree,\" \"Bachelor's Degree,\" and \"Master's Degree.\" In this case, you might assign integers like 1, 2, 3, and 4 to represent the ordinal hierarchy of education.\n",
    "# Label Encoding:\n",
    "# Usage: Label encoding is used when dealing with nominal categorical variables or when you want to simplify the representation of categorical data. In label encoding, you assign a unique integer to each category without implying any specific order or hierarchy.\n",
    "# Example: Suppose you have a \"Gender\" variable with categories \"Male\" and \"Female.\" Label encoding could assign 0 to \"Male\" and 1 to \"Female\" for simplicity."
   ]
  },
  {
   "cell_type": "code",
   "execution_count": 2,
   "id": "d5f89bfd-644f-4839-9186-e919c38326fb",
   "metadata": {},
   "outputs": [],
   "source": [
    "# Target Guided Ordinal Encoding is a technique used for encoding categorical variables based on their relationship with the target variable in a classification problem. It assigns ordinal integers to categories in a way that reflects the probability or likelihood of each category leading to the desired outcome (target variable)\n",
    "# Calculate Target Mean or Probability:\n",
    "# For each category of the categorical variable, calculate the mean (or probability) of the target variable within that category. This means finding the proportion of instances where the target variable equals 1 (or the positive class) for each category.\n",
    "# Order Categories by Target Mean:\n",
    "# Sort the categories based on their calculated target means in ascending or descending order, depending on whether a higher mean corresponds to a more desired outcome.\n",
    "# Assign Ordinal Values:\n",
    "# Assign ordinal integers to the categories based on their order. The category with the highest (or lowest) target mean is assigned the highest (or lowest) integer value. This ordinal encoding reflects the degree of influence each category has on the target variable.\n",
    "# Suppose you are working on a loan default prediction project, and you have a categorical variable \"Employment Status\" with categories like \"Unemployed,\" \"Part-Time,\" \"Full-Time,\" and \"Self-Employed.\" Your goal is to predict whether a loan applicant will default on their loan.\n",
    "# In this scenario:\n",
    "# You believe that \"Employment Status\" is a significant predictor of loan default.\n",
    "# Calculate the proportion of loan defaults (target variable = 1) for each category of \"Employment Status.\" For example:\n",
    "# \"Unemployed\" -> 0.45\n",
    "# \"Part-Time\" -> 0.30\n",
    "# \"Full-Time\" -> 0.20\n",
    "# \"Self-Employed\" -> 0.15\n",
    "# Order the categories based on their default rates in descending order (higher default rate means a higher likelihood of default).\n",
    "# Assign ordinal values accordingly:\n",
    "# \"Unemployed\" -> 1\n",
    "# \"Part-Time\" -> 2\n",
    "# \"Full-Time\" -> 3\n",
    "# \"Self-Employed\" -> 4"
   ]
  },
  {
   "cell_type": "code",
   "execution_count": 3,
   "id": "ad881a17-38a3-4ec6-a0d4-38656ecfebea",
   "metadata": {},
   "outputs": [],
   "source": [
    "#Covariance is a statistical measure that quantifies the degree to which two random variables change together. In Other words,it will give the relation between the two varibles if a variable is increasing the other is increasing or decreasing\n",
    "# the covariance is not standardised so it is not possible to tell how well the two variables are related to eachother..\n",
    "\n",
    "#Covariance helps us understand how two variables are related. A positive covariance suggests that they tend to move in the same direction, while a negative covariance suggests an inverse relationship.\n",
    "# covariance is calculated with a formula cov(x,y) = summation((xi -xm)(yi-ym))/n-1\n"
   ]
  },
  {
   "cell_type": "code",
   "execution_count": 5,
   "id": "d420a952-6c82-4589-9047-ed6c837a5aa4",
   "metadata": {},
   "outputs": [
    {
     "name": "stdout",
     "output_type": "stream",
     "text": [
      "   Color    Size Material  Color_encoded  Size_encoded  Material_encoded\n",
      "0    red   small     wood              2             2                 2\n",
      "1  green  medium    metal              1             1                 0\n",
      "2   blue   large  plastic              0             0                 1\n",
      "3    red  medium     wood              2             1                 2\n",
      "4   blue   small    metal              0             2                 0\n"
     ]
    }
   ],
   "source": [
    "from sklearn.preprocessing import LabelEncoder\n",
    "data = {'Color': ['red', 'green', 'blue', 'red', 'blue'],\n",
    "        'Size': ['small', 'medium', 'large', 'medium', 'small'],\n",
    "        'Material': ['wood', 'metal', 'plastic', 'wood', 'metal']}\n",
    "import pandas as pd\n",
    "df = pd.DataFrame(data)\n",
    "label_encoder_color = LabelEncoder()\n",
    "label_encoder_size = LabelEncoder()\n",
    "label_encoder_material = LabelEncoder()\n",
    "df['Color_encoded'] = label_encoder_color.fit_transform(df['Color'])\n",
    "df['Size_encoded'] = label_encoder_size.fit_transform(df['Size'])\n",
    "df['Material_encoded'] = label_encoder_material.fit_transform(df['Material'])\n",
    "print(df)\n"
   ]
  },
  {
   "cell_type": "code",
   "execution_count": 12,
   "id": "73c92924-53d8-4ea3-a686-5fc4c272de7f",
   "metadata": {},
   "outputs": [
    {
     "data": {
      "text/html": [
       "<div>\n",
       "<style scoped>\n",
       "    .dataframe tbody tr th:only-of-type {\n",
       "        vertical-align: middle;\n",
       "    }\n",
       "\n",
       "    .dataframe tbody tr th {\n",
       "        vertical-align: top;\n",
       "    }\n",
       "\n",
       "    .dataframe thead th {\n",
       "        text-align: right;\n",
       "    }\n",
       "</style>\n",
       "<table border=\"1\" class=\"dataframe\">\n",
       "  <thead>\n",
       "    <tr style=\"text-align: right;\">\n",
       "      <th></th>\n",
       "      <th>Age</th>\n",
       "      <th>Income</th>\n",
       "      <th>Education Level</th>\n",
       "    </tr>\n",
       "  </thead>\n",
       "  <tbody>\n",
       "    <tr>\n",
       "      <th>Age</th>\n",
       "      <td>94.00</td>\n",
       "      <td>140000.0</td>\n",
       "      <td>23.25</td>\n",
       "    </tr>\n",
       "    <tr>\n",
       "      <th>Income</th>\n",
       "      <td>140000.00</td>\n",
       "      <td>232500000.0</td>\n",
       "      <td>34000.00</td>\n",
       "    </tr>\n",
       "    <tr>\n",
       "      <th>Education Level</th>\n",
       "      <td>23.25</td>\n",
       "      <td>34000.0</td>\n",
       "      <td>5.80</td>\n",
       "    </tr>\n",
       "  </tbody>\n",
       "</table>\n",
       "</div>"
      ],
      "text/plain": [
       "                       Age       Income  Education Level\n",
       "Age                  94.00     140000.0            23.25\n",
       "Income           140000.00  232500000.0         34000.00\n",
       "Education Level      23.25      34000.0             5.80"
      ]
     },
     "execution_count": 12,
     "metadata": {},
     "output_type": "execute_result"
    }
   ],
   "source": [
    "import pandas as pd\n",
    "data = {'Age': [35, 42, 28, 52, 48],\n",
    "        'Income': [50000, 60000, 45000, 75000, 80000],\n",
    "        'Education Level': [16, 18, 14, 20, 19]}\n",
    "df = pd.DataFrame(data)\n",
    "cov_matrix =df.cov()\n",
    "cov_matrix\n",
    "#A positive covariance between Age and Income suggests that, on average, as Age increases, Income tends to increase as well.\n",
    "#The covariance value between Age and Education Level indicates whether there's a linear relationship between an individual's age and their education level.\n",
    "#The covariance between Income and Education Level indicates whether there's a linear relationship between an individual's income and their education level."
   ]
  },
  {
   "cell_type": "code",
   "execution_count": 14,
   "id": "5b5a20f0-e7d2-429a-8fab-15e1c6a731e4",
   "metadata": {},
   "outputs": [],
   "source": [
    "# for Gender there is only male/female so i prefer using one hot encoding Assigning 0 to one category and 1 to the other is straightforward and doesn't imply any ordinal relationship between the categories.\n",
    "# for educational level i prefer using ordinal encoding as there is specific order for these educational levels\n",
    "#similarly i use ordinal encoding for the employment status as employed has good preference than unemployed so i prefer these encoding techniques"
   ]
  },
  {
   "cell_type": "code",
   "execution_count": 25,
   "id": "ded98c81-fee6-4a0c-aca8-cc7321ffc554",
   "metadata": {},
   "outputs": [
    {
     "name": "stderr",
     "output_type": "stream",
     "text": [
      "/tmp/ipykernel_3175/2515979254.py:5: FutureWarning: The default value of numeric_only in DataFrame.cov is deprecated. In a future version, it will default to False. Select only valid columns or specify the value of numeric_only to silence this warning.\n",
      "  cov_mat = df.cov()\n"
     ]
    },
    {
     "data": {
      "text/html": [
       "<div>\n",
       "<style scoped>\n",
       "    .dataframe tbody tr th:only-of-type {\n",
       "        vertical-align: middle;\n",
       "    }\n",
       "\n",
       "    .dataframe tbody tr th {\n",
       "        vertical-align: top;\n",
       "    }\n",
       "\n",
       "    .dataframe thead th {\n",
       "        text-align: right;\n",
       "    }\n",
       "</style>\n",
       "<table border=\"1\" class=\"dataframe\">\n",
       "  <thead>\n",
       "    <tr style=\"text-align: right;\">\n",
       "      <th></th>\n",
       "      <th>total_bill</th>\n",
       "      <th>tip</th>\n",
       "      <th>size</th>\n",
       "    </tr>\n",
       "  </thead>\n",
       "  <tbody>\n",
       "    <tr>\n",
       "      <th>total_bill</th>\n",
       "      <td>79.252939</td>\n",
       "      <td>8.323502</td>\n",
       "      <td>5.065983</td>\n",
       "    </tr>\n",
       "    <tr>\n",
       "      <th>tip</th>\n",
       "      <td>8.323502</td>\n",
       "      <td>1.914455</td>\n",
       "      <td>0.643906</td>\n",
       "    </tr>\n",
       "    <tr>\n",
       "      <th>size</th>\n",
       "      <td>5.065983</td>\n",
       "      <td>0.643906</td>\n",
       "      <td>0.904591</td>\n",
       "    </tr>\n",
       "  </tbody>\n",
       "</table>\n",
       "</div>"
      ],
      "text/plain": [
       "            total_bill       tip      size\n",
       "total_bill   79.252939  8.323502  5.065983\n",
       "tip           8.323502  1.914455  0.643906\n",
       "size          5.065983  0.643906  0.904591"
      ]
     },
     "execution_count": 25,
     "metadata": {},
     "output_type": "execute_result"
    }
   ],
   "source": [
    "# as we are talkin about two continuous variabls and two categorical variables i chose tips dataset for example\n",
    "import seaborn as sns\n",
    "df =sns.load_dataset('tips')\n",
    "df.drop(['sex','smoker'],axis=1,inplace=True)\n",
    "cov_mat = df.cov()\n",
    "cov_mat"
   ]
  },
  {
   "cell_type": "code",
   "execution_count": null,
   "id": "a4606d24-a98f-4f09-bc5a-8ee68c77e750",
   "metadata": {},
   "outputs": [],
   "source": []
  }
 ],
 "metadata": {
  "kernelspec": {
   "display_name": "Python 3 (ipykernel)",
   "language": "python",
   "name": "python3"
  },
  "language_info": {
   "codemirror_mode": {
    "name": "ipython",
    "version": 3
   },
   "file_extension": ".py",
   "mimetype": "text/x-python",
   "name": "python",
   "nbconvert_exporter": "python",
   "pygments_lexer": "ipython3",
   "version": "3.10.8"
  }
 },
 "nbformat": 4,
 "nbformat_minor": 5
}

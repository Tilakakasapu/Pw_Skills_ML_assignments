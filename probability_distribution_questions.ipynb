
{
 "cells": [
  {
   "cell_type": "markdown",
   "metadata": {},
   "source": [
    "# Probability and Distribution Questions
",
    "
",
    "### Q1. What is the Probability density function?
",
    "A probability density function (PDF) describes the likelihood of a continuous random variable taking on a particular value. The integral of the PDF over a certain range gives the probability that the value of the random variable lies within that range.
",
    "
",
    "### Q2. What are the types of Probability distribution?
",
    "There are several types of probability distributions:
",
    "- **Discrete Probability Distributions**: For discrete random variables.
",
    "    - Example: Binomial, Poisson, Geometric, etc.
",
    "- **Continuous Probability Distributions**: For continuous random variables.
",
    "    - Example: Normal, Exponential, Uniform, etc.
",
    "
",
    "### Q3. Python function to calculate the probability density function of a normal distribution
",
    "```python
",
    "import math
",
    "import scipy.stats as stats
",
    "
",
    "def normal_pdf(x, mean, stddev):
",
    "    return stats.norm.pdf(x, mean, stddev)
",
    "
",
    "# Example
",
    "mean = 0
",
    "stddev = 1
",
    "x = 2
",
    "result = normal_pdf(x, mean, stddev)
",
    "print(result)  # This will give the PDF of a normal distribution at x=2
",
    "```
",
    "
",
    "### Q4. What are the properties of Binomial distribution? Give two examples of events where binomial distribution can be applied.
",
    "Properties of Binomial distribution:
",
    "- There are fixed number of trials (n).
",
    "- Each trial has two possible outcomes (success or failure).
",
    "- The probability of success (p) is constant across trials.
",
    "- Trials are independent.
",
    "
",
    "Examples of events where Binomial distribution can be applied:
",
    "1. Flipping a coin 10 times and counting the number of heads.
",
    "2. Counting the number of defective products in a batch of 100.
",
    "
",
    "### Q5. Generate a random sample of size 1000 from a binomial distribution with probability of success 0.4 and plot a histogram
",
    "```python
",
    "import numpy as np
",
    "import matplotlib.pyplot as plt
",
    "
",
    "sample_size = 1000
",
    "n = 10  # number of trials
",
    "p = 0.4  # probability of success
",
    "data = np.random.binomial(n, p, sample_size)
",
    "
",
    "plt.hist(data, bins=30, edgecolor='black')
",
    "plt.title('Binomial Distribution Histogram')
",
    "plt.xlabel('Number of Successes')
",
    "plt.ylabel('Frequency')
",
    "plt.show()
",
    "```
",
    "
",
    "### Q6. Write a Python function to calculate the cumulative distribution function of a Poisson distribution with given mean at a given point.
",
    "```python
",
    "import scipy.stats as stats
",
    "
",
    "def poisson_cdf(x, mean):
",
    "    return stats.poisson.cdf(x, mean)
",
    "
",
    "# Example
",
    "mean = 5
",
    "x = 3
",
    "result = poisson_cdf(x, mean)
",
    "print(result)  # This will give the CDF of a Poisson distribution at x=3
",
    "```
",
    "
",
    "### Q7. How Binomial distribution different from Poisson distribution?
",
    "Key differences between Binomial and Poisson distributions:
",
    "- **Binomial distribution** models the number of successes in a fixed number of independent trials with a constant probability of success.
",
    "- **Poisson distribution** models the number of events occurring within a fixed interval of time or space, where events happen at a constant rate and independently.
",
    "
",
    "### Q8. Generate a random sample of size 1000 from a Poisson distribution with mean 5 and calculate the sample mean and variance.
",
    "```python
",
    "sample_size = 1000
",
    "mean = 5
",
    "data = np.random.poisson(mean, sample_size)
",
    "
",
    "sample_mean = np.mean(data)
",
    "sample_variance = np.var(data)
",
    "
",
    "print('Sample Mean:', sample_mean)
",
    "print('Sample Variance:', sample_variance)
",
    "```
",
    "
",
    "### Q9. How mean and variance are related in Binomial distribution and Poisson distribution?
",
    "- In **Binomial distribution**, the mean is given by \(n 	imes p\) and the variance by \(n 	imes p 	imes (1-p)\), where \(n\) is the number of trials and \(p\) is the probability of success.
",
    "- In **Poisson distribution**, the mean and variance are both equal to the mean \(λ\) of the distribution.
",
    "
",
    "### Q10. In normal distribution with respect to mean position, where does the least frequent data appear?
",
    "In a normal distribution, the least frequent data points appear at the extreme ends of the distribution, farthest from the mean. These correspond to the tails of the distribution.
"
   ]
  }
 ],
 "metadata": {
  "kernelspec": {
   "display_name": "Python 3",
   "language": "python",
   "name": "python3"
  },
  "language_info": {
   "codemirror_mode": {
    "name": "ipython",
    "version": 3
   },
   "file_extension": ".py",
   "mimetype": "text/x-python",
   "name": "python",
   "nbconvert_exporter": "python",
   "version": "3.8.5"
  }
 },
 "nbformat": 4,
 "nbformat_minor": 5
}

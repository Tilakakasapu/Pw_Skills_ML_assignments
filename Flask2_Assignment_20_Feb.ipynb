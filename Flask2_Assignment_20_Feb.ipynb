{
 "cells": [
  {
   "cell_type": "markdown",
   "id": "4448f95c",
   "metadata": {},
   "source": [
    "# Flask-2 Assignment - 20th February\n",
    "\n",
    "**Data Science Masters**\n"
   ]
  },
  {
   "cell_type": "markdown",
   "id": "5d018c43",
   "metadata": {},
   "source": [
    "## Q1. Explain GET and POST methods."
   ]
  },
  {
   "cell_type": "markdown",
   "id": "c0429faf",
   "metadata": {},
   "source": [
    "Your answer here..."
   ]
  },
  {
   "cell_type": "markdown",
   "id": "36474537",
   "metadata": {},
   "source": [
    "## Q2. Why is request used in Flask?"
   ]
  },
  {
   "cell_type": "markdown",
   "id": "4a1619ea",
   "metadata": {},
   "source": [
    "Your answer here..."
   ]
  },
  {
   "cell_type": "markdown",
   "id": "3d905736",
   "metadata": {},
   "source": [
    "## Q3. Why is redirect() used in Flask?"
   ]
  },
  {
   "cell_type": "markdown",
   "id": "db19f58b",
   "metadata": {},
   "source": [
    "Your answer here..."
   ]
  },
  {
   "cell_type": "markdown",
   "id": "c9c638ac",
   "metadata": {},
   "source": [
    "## Q4. What are templates in Flask? Why is the render_template() function used?"
   ]
  },
  {
   "cell_type": "markdown",
   "id": "23d56378",
   "metadata": {},
   "source": [
    "Your answer here..."
   ]
  },
  {
   "cell_type": "markdown",
   "id": "958d0f6e",
   "metadata": {},
   "source": [
    "## Q5. Create a simple API. Use Postman to test it. Attach the screenshot of the output in the Jupyter Notebook."
   ]
  },
  {
   "cell_type": "code",
   "execution_count": null,
   "id": "102a7fc2",
   "metadata": {},
   "outputs": [],
   "source": [
    "# Your Flask API code here"
   ]
  },
  {
   "cell_type": "markdown",
   "id": "2def2b58",
   "metadata": {},
   "source": [
    "**Screenshot of Output (Postman):**\n",
    "\n",
    "*Upload and display the screenshot here.*"
   ]
  }
 ],
 "metadata": {},
 "nbformat": 4,
 "nbformat_minor": 5
}

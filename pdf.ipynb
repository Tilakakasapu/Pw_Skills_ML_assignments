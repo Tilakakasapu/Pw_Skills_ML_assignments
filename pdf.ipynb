{
 "cells": [
  {
   "cell_type": "markdown",
   "metadata": {},
   "source": [
    "Q1. What is the Probability density function?\n",
    "A probability density function (PDF) describes the likelihood of a continuous random variable taking on a particular value. The integral of the PDF over a certain range gives the probability that the value of the random variable lies within that range. For a continuous distribution, the probability that a random variable equals a specific value is zero, but the probability that it lies within a range can be found by integrating the PDF over that range."
   ]
  },
  {
   "cell_type": "markdown",
   "metadata": {},
   "source": [
    "Q2. What are the types of Probability distribution?\n",
    "There are two main types of probability distributions:\n",
    "\n",
    "Discrete Probability Distributions: These are for discrete random variables, which take on a finite or countably infinite set of values. Examples:\n",
    "\n",
    "Binomial Distribution\n",
    "Poisson Distribution\n",
    "Geometric Distribution\n",
    "Continuous Probability Distributions: These are for continuous random variables, which can take any value within a range. Examples:\n",
    "\n",
    "Normal Distribution\n",
    "Exponential Distribution\n",
    "Uniform Distribution\n"
   ]
  },
  {
   "cell_type": "code",
   "execution_count": 1,
   "metadata": {},
   "outputs": [
    {
     "name": "stdout",
     "output_type": "stream",
     "text": [
      "0.05399096651318806\n"
     ]
    }
   ],
   "source": [
    "import math\n",
    "import scipy.stats as stats\n",
    "\n",
    "def normal_pdf(x, mean, stddev):\n",
    "    return stats.norm.pdf(x, mean, stddev)\n",
    "\n",
    "# Example usage\n",
    "mean = 0\n",
    "stddev = 1\n",
    "x = 2\n",
    "result = normal_pdf(x, mean, stddev)\n",
    "print(result)  # This will give the PDF of a normal distribution at x=2"
   ]
  },
  {
   "cell_type": "markdown",
   "metadata": {},
   "source": [
    "What are the properties of Binomial distribution? Give two examples of events where binomial distribution can be applied.\n",
    "Properties of Binomial Distribution:\n",
    "\n",
    "There are a fixed number of trials (n).\n",
    "Each trial has two possible outcomes (success or failure).\n",
    "The probability of success (p) is constant across trials.\n",
    "The trials are independent of each other.\n",
    "Examples of events where Binomial distribution can be applied:\n",
    "\n",
    "Flipping a coin 10 times and counting the number of heads.\n",
    "Counting the number of defective products in a batch of 100 items."
   ]
  },
  {
   "cell_type": "code",
   "execution_count": 2,
   "metadata": {},
   "outputs": [
    {
     "data": {
      "image/png": "[encoded data removed]",
      "text/plain": [
       "<Figure size 640x480 with 1 Axes>"
      ]
     },
     "metadata": {},
     "output_type": "display_data"
    }
   ],
   "source": [
    "import numpy as np\n",
    "import matplotlib.pyplot as plt\n",
    "\n",
    "sample_size = 1000\n",
    "n = 10  # number of trials\n",
    "p = 0.4  # probability of success\n",
    "data = np.random.binomial(n, p, sample_size)\n",
    "\n",
    "plt.hist(data, bins=30, edgecolor='black')\n",
    "plt.title('Binomial Distribution Histogram')\n",
    "plt.xlabel('Number of Successes')\n",
    "plt.ylabel('Frequency')\n",
    "plt.show()\n"
   ]
  },
  {
   "cell_type": "code",
   "execution_count": 3,
   "metadata": {},
   "outputs": [
    {
     "name": "stdout",
     "output_type": "stream",
     "text": [
      "0.2650259152973615\n"
     ]
    }
   ],
   "source": [
    "import scipy.stats as stats\n",
    "\n",
    "def poisson_cdf(x, mean):\n",
    "    return stats.poisson.cdf(x, mean)\n",
    "\n",
    "# Example usage\n",
    "mean = 5\n",
    "x = 3\n",
    "result = poisson_cdf(x, mean)\n",
    "print(result)  # This will give the CDF of a Poisson distribution at x=3\n"
   ]
  },
  {
   "cell_type": "markdown",
   "metadata": {},
   "source": [
    "How Binomial distribution different from Poisson distribution?\n",
    "Key differences:\n",
    "\n",
    "Binomial Distribution:\n",
    "\n",
    "Models the number of successes in a fixed number of independent trials.\n",
    "Each trial has a constant probability of success.\n",
    "It is used for discrete events (e.g., flipping a coin, passing a test).\n",
    "Poisson Distribution:\n",
    "\n",
    "Models the number of events occurring in a fixed interval of time or space.\n",
    "Events happen independently at a constant rate (λ) over time or space.\n",
    "It is used for rare events (e.g., number of accidents at an intersection per day).\n"
   ]
  },
  {
   "cell_type": "code",
   "execution_count": 4,
   "metadata": {},
   "outputs": [
    {
     "name": "stdout",
     "output_type": "stream",
     "text": [
      "Sample Mean: 5.027\n",
      "Sample Variance: 5.062271000000001\n"
     ]
    }
   ],
   "source": [
    "sample_size = 1000\n",
    "mean = 5\n",
    "data = np.random.poisson(mean, sample_size)\n",
    "\n",
    "sample_mean = np.mean(data)\n",
    "sample_variance = np.var(data)\n",
    "\n",
    "print('Sample Mean:', sample_mean)\n",
    "print('Sample Variance:', sample_variance)"
   ]
  },
  {
   "cell_type": "markdown",
   "metadata": {},
   "source": [
    "How mean and variance are related in Binomial distribution and Poisson distribution?\n",
    "In Binomial Distribution:\n",
    "\n",
    "Mean: \n",
    "𝜇\n",
    "=\n",
    "𝑛\n",
    "×\n",
    "𝑝\n",
    "μ=n×p\n",
    "Variance: \n",
    "𝜎\n",
    "2\n",
    "=\n",
    "𝑛\n",
    "×\n",
    "𝑝\n",
    "×\n",
    "(\n",
    "1\n",
    "−\n",
    "𝑝\n",
    ")\n",
    "σ \n",
    "2\n",
    " =n×p×(1−p)\n",
    "Where n is the number of trials and p is the probability of success.\n",
    "In Poisson Distribution:\n",
    "\n",
    "Mean: \n",
    "𝜇\n",
    "=\n",
    "𝜆\n",
    "μ=λ\n",
    "Variance: \n",
    "𝜎\n",
    "2\n",
    "=\n",
    "𝜆\n",
    "σ \n",
    "2\n",
    " =λ\n",
    "Where λ is the rate parameter (mean number of events per unit time or space).\n",
    "In Poisson distribution, the mean and variance are equal, while in Binomial distribution, the variance depends on both n and p"
   ]
  },
  {
   "cell_type": "markdown",
   "metadata": {},
   "source": [
    " In normal distribution with respect to mean position, where does the least frequent data appear?\n",
    "In a normal distribution, the least frequent data points appear at the extreme ends of the distribution, farthest from the mean. These correspond to the tails of the distribution. The further you move from the mean, the less frequent the data becomes.\n"
   ]
  },
  {
   "cell_type": "markdown",
   "metadata": {},
   "source": []
  }
 ],
 "metadata": {
  "kernelspec": {
   "display_name": "venv",
   "language": "python",
   "name": "python3"
  },
  "language_info": {
   "codemirror_mode": {
    "name": "ipython",
    "version": 3
   },
   "file_extension": ".py",
   "mimetype": "text/x-python",
   "name": "python",
   "nbconvert_exporter": "python",
   "pygments_lexer": "ipython3",
   "version": "3.10.0"
  }
 },
 "nbformat": 4,
 "nbformat_minor": 2
}

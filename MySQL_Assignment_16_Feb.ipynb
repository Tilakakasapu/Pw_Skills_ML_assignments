{
 "cells": [
  {
   "cell_type": "markdown",
   "id": "cf209d74",
   "metadata": {},
   "source": [
    "# MySQL Assignment - 16th February\n",
    "\n",
    "**Data Science Masters**\n",
    "\n",
    "Instructor: Govind Verma\n",
    "Contributor: Vishakha"
   ]
  },
  {
   "cell_type": "markdown",
   "id": "242a209d",
   "metadata": {},
   "source": [
    "## Q1. What is a database? Differentiate between SQL and NoSQL databases."
   ]
  },
  {
   "cell_type": "markdown",
   "id": "1f435ca1",
   "metadata": {},
   "source": [
    "Your answer here..."
   ]
  },
  {
   "cell_type": "markdown",
   "id": "228a0bd7",
   "metadata": {},
   "source": [
    "## Q2. What is DDL? Explain why CREATE, DROP, ALTER, and TRUNCATE are used with an example."
   ]
  },
  {
   "cell_type": "markdown",
   "id": "c2219062",
   "metadata": {},
   "source": [
    "Your answer here..."
   ]
  },
  {
   "cell_type": "markdown",
   "id": "838e7d0a",
   "metadata": {},
   "source": [
    "## Q3. What is DML? Explain INSERT, UPDATE, and DELETE with an example."
   ]
  },
  {
   "cell_type": "markdown",
   "id": "2677a883",
   "metadata": {},
   "source": [
    "Your answer here..."
   ]
  },
  {
   "cell_type": "markdown",
   "id": "c0c38909",
   "metadata": {},
   "source": [
    "## Q4. What is DQL? Explain SELECT with an example."
   ]
  },
  {
   "cell_type": "markdown",
   "id": "92b27b51",
   "metadata": {},
   "source": [
    "Your answer here..."
   ]
  },
  {
   "cell_type": "markdown",
   "id": "b377dd9d",
   "metadata": {},
   "source": [
    "## Q5. Explain Primary Key and Foreign Key."
   ]
  },
  {
   "cell_type": "markdown",
   "id": "d6e7b664",
   "metadata": {},
   "source": [
    "Your answer here..."
   ]
  },
  {
   "cell_type": "markdown",
   "id": "012bf72d",
   "metadata": {},
   "source": [
    "## Q6. Write a python code to connect MySQL to python. Explain the cursor() and execute() method."
   ]
  },
  {
   "cell_type": "code",
   "execution_count": null,
   "id": "ddddaea9",
   "metadata": {},
   "outputs": [],
   "source": [
    "# Your solution here"
   ]
  },
  {
   "cell_type": "markdown",
   "id": "6a03abfa",
   "metadata": {},
   "source": [
    "## Q7. Give the order of execution of SQL clauses in an SQL query."
   ]
  },
  {
   "cell_type": "markdown",
   "id": "a598cde6",
   "metadata": {},
   "source": [
    "Your answer here..."
   ]
  }
 ],
 "metadata": {},
 "nbformat": 4,
 "nbformat_minor": 5
}
